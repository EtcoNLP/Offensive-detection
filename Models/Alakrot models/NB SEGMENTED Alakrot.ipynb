{
 "cells": [
  {
   "cell_type": "code",
   "execution_count": 38,
   "metadata": {
    "collapsed": true
   },
   "outputs": [],
   "source": [
    "import pandas as pd  \n",
    "import numpy as np  \n",
    "import matplotlib.pyplot as plt"
   ]
  },
  {
   "cell_type": "code",
   "execution_count": 39,
   "metadata": {},
   "outputs": [
    {
     "name": "stdout",
     "output_type": "stream",
     "text": [
      "                               segmented_commentText Label\n",
      "0  : O كاظم ي سوا كم بس انتم لان مقام ات ه ت درس ...     P\n",
      "1                                   : سخط على ليكي\\n     N\n",
      "2  ? . . مسائ كم سعيد يا شباب , ممكن حد ي قول لى ...     N\n",
      "3  ؟ ؟ ؟ ؟ ؟ ؟ فهم و نا بس هو انشهر ب لبنان و لا ...     N\n",
      "4                                              \" .\\n     N\n"
     ]
    }
   ],
   "source": [
    "# import the data\n",
    "data = pd.read_csv(\"seg_row_data_Alakrot.csv\")\n",
    "print (data.head())"
   ]
  },
  {
   "cell_type": "code",
   "execution_count": 40,
   "metadata": {},
   "outputs": [
    {
     "data": {
      "text/html": [
       "<div>\n",
       "<style scoped>\n",
       "    .dataframe tbody tr th:only-of-type {\n",
       "        vertical-align: middle;\n",
       "    }\n",
       "\n",
       "    .dataframe tbody tr th {\n",
       "        vertical-align: top;\n",
       "    }\n",
       "\n",
       "    .dataframe thead th {\n",
       "        text-align: right;\n",
       "    }\n",
       "</style>\n",
       "<table border=\"1\" class=\"dataframe\">\n",
       "  <thead>\n",
       "    <tr style=\"text-align: right;\">\n",
       "      <th></th>\n",
       "      <th>segmented_commentText</th>\n",
       "      <th>Label</th>\n",
       "    </tr>\n",
       "  </thead>\n",
       "  <tbody>\n",
       "    <tr>\n",
       "      <th>0</th>\n",
       "      <td>: O كاظم ي سوا كم بس انتم لان مقام ات ه ت درس ...</td>\n",
       "      <td>P</td>\n",
       "    </tr>\n",
       "    <tr>\n",
       "      <th>1</th>\n",
       "      <td>: سخط على ليكي\\n</td>\n",
       "      <td>N</td>\n",
       "    </tr>\n",
       "    <tr>\n",
       "      <th>2</th>\n",
       "      <td>? . . مسائ كم سعيد يا شباب , ممكن حد ي قول لى ...</td>\n",
       "      <td>N</td>\n",
       "    </tr>\n",
       "    <tr>\n",
       "      <th>3</th>\n",
       "      <td>؟ ؟ ؟ ؟ ؟ ؟ فهم و نا بس هو انشهر ب لبنان و لا ...</td>\n",
       "      <td>N</td>\n",
       "    </tr>\n",
       "    <tr>\n",
       "      <th>4</th>\n",
       "      <td>\" .\\n</td>\n",
       "      <td>N</td>\n",
       "    </tr>\n",
       "  </tbody>\n",
       "</table>\n",
       "</div>"
      ],
      "text/plain": [
       "                               segmented_commentText Label\n",
       "0  : O كاظم ي سوا كم بس انتم لان مقام ات ه ت درس ...     P\n",
       "1                                   : سخط على ليكي\\n     N\n",
       "2  ? . . مسائ كم سعيد يا شباب , ممكن حد ي قول لى ...     N\n",
       "3  ؟ ؟ ؟ ؟ ؟ ؟ فهم و نا بس هو انشهر ب لبنان و لا ...     N\n",
       "4                                              \" .\\n     N"
      ]
     },
     "execution_count": 40,
     "metadata": {},
     "output_type": "execute_result"
    }
   ],
   "source": [
    "label_data = data[['segmented_commentText', 'Label']]\n",
    "label_data[:5]"
   ]
  },
  {
   "cell_type": "code",
   "execution_count": 41,
   "metadata": {},
   "outputs": [],
   "source": [
    "def clean_text(x):\n",
    "    return str(x)\n",
    "\n",
    "label_data[\"segmented_commentText\"] = label_data[\"segmented_commentText\"].apply(lambda x: clean_text(x))"
   ]
  },
  {
   "cell_type": "code",
   "execution_count": 42,
   "metadata": {
    "collapsed": true
   },
   "outputs": [],
   "source": [
    "from sklearn.model_selection import train_test_split\n",
    "\n",
    "train, test = train_test_split(label_data, test_size=0.2)"
   ]
  },
  {
   "cell_type": "code",
   "execution_count": 43,
   "metadata": {},
   "outputs": [
    {
     "name": "stdout",
     "output_type": "stream",
     "text": [
      "Performing grid search...\n",
      "pipeline: ['tfidf', 'NB']\n",
      "parameters:\n",
      "{'tfidf__use_idf': (True, False), 'tfidf__norm': ('l1', 'l2')}\n",
      "Fitting 5 folds for each of 4 candidates, totalling 20 fits\n"
     ]
    },
    {
     "name": "stderr",
     "output_type": "stream",
     "text": [
      "[Parallel(n_jobs=-1)]: Using backend LokyBackend with 4 concurrent workers.\n",
      "[Parallel(n_jobs=-1)]: Done  20 out of  20 | elapsed:    4.7s finished\n"
     ]
    },
    {
     "name": "stdout",
     "output_type": "stream",
     "text": [
      "done in 4.875s\n",
      "\n",
      "Best score: 0.613\n",
      "Best parameters set:\n",
      "\ttfidf__norm: 'l2'\n",
      "\ttfidf__use_idf: False\n",
      "accuracy= 0.6187471834159531\n",
      "recall= 0.6187471834159531\n",
      "precision= 0.6438319930694468\n",
      "weighted f-score 0.5267189547504336\n",
      "Confusion matrix\n",
      " [[1265   49]\n",
      " [ 797  108]]\n"
     ]
    }
   ],
   "source": [
    "from sklearn.feature_extraction.text import TfidfVectorizer\n",
    "from sklearn.model_selection import GridSearchCV\n",
    "from sklearn.pipeline import Pipeline\n",
    "from sklearn.naive_bayes import MultinomialNB\n",
    "from sklearn.metrics import confusion_matrix\n",
    "from sklearn.metrics import f1_score, recall_score, precision_score\n",
    "from time import time\n",
    "\n",
    "max_features = 9000\n",
    "\n",
    "x = train['segmented_commentText']\n",
    "y = train['Label']\n",
    "\n",
    "\n",
    "tfidf = TfidfVectorizer(max_features=max_features)\n",
    "\n",
    "pipeline = Pipeline([\n",
    "    ('tfidf', tfidf),\n",
    "    ('NB', MultinomialNB(alpha=1)),\n",
    "])\n",
    "\n",
    "parameters = {\n",
    "    'tfidf__use_idf': (True, False),\n",
    "    'tfidf__norm': ('l1', 'l2')   \n",
    "}\n",
    "\n",
    "grid_search = GridSearchCV(pipeline, parameters, cv=5,\n",
    "                               n_jobs=-1, verbose=1)\n",
    "\n",
    "print(\"Performing grid search...\")\n",
    "print(\"pipeline:\", [name for name, _ in pipeline.steps])\n",
    "print(\"parameters:\")\n",
    "print(parameters)\n",
    "t0 = time()\n",
    "grid_search.fit(x, y)\n",
    "print(\"done in %0.3fs\" % (time() - t0))\n",
    "print()\n",
    "\n",
    "print(\"Best score: %0.3f\" % grid_search.best_score_)\n",
    "print(\"Best parameters set:\")\n",
    "best_parameters = grid_search.best_estimator_.get_params()\n",
    "for param_name in sorted(parameters.keys()):\n",
    "    print(\"\\t%s: %r\" % (param_name, best_parameters[param_name]))\n",
    "    \n",
    "#refitting on entire training data using best settings\n",
    "grid_search.refit\n",
    "\n",
    "x_test = test['segmented_commentText']\n",
    "y_test = test['Label']\n",
    "\n",
    "predicted = grid_search.predict(x_test)\n",
    "print(\"accuracy=\", np.mean(predicted == y_test))\n",
    "print(\"recall=\", recall_score(y_test, predicted, average='weighted') )\n",
    "print(\"precision=\", precision_score(y_test, predicted, average='weighted'))\n",
    "print(\"weighted f-score\", f1_score(y_test, predicted, average='weighted'))\n",
    "print(\"Confusion matrix\\n\", confusion_matrix(y_test, predicted))"
   ]
  },
  {
   "cell_type": "code",
   "execution_count": null,
   "metadata": {
    "collapsed": true
   },
   "outputs": [],
   "source": []
  }
 ],
 "metadata": {
  "kernelspec": {
   "display_name": "Python 3",
   "language": "python",
   "name": "python3"
  },
  "language_info": {
   "codemirror_mode": {
    "name": "ipython",
    "version": 3
   },
   "file_extension": ".py",
   "mimetype": "text/x-python",
   "name": "python",
   "nbconvert_exporter": "python",
   "pygments_lexer": "ipython3",
   "version": "3.7.3"
  }
 },
 "nbformat": 4,
 "nbformat_minor": 2
}
