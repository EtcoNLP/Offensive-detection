{
 "cells": [
  {
   "cell_type": "code",
   "execution_count": 7,
   "metadata": {},
   "outputs": [],
   "source": [
    "import pandas as pd  \n",
    "import numpy as np  \n",
    "import matplotlib.pyplot as plt"
   ]
  },
  {
   "cell_type": "code",
   "execution_count": 8,
   "metadata": {},
   "outputs": [
    {
     "name": "stdout",
     "output_type": "stream",
     "text": [
      "   Unnamed: 0                                               body  \\\n",
      "0           0  يبغى التنبيه على ان السعوديه  تستخدم صواريخ جو...   \n",
      "1           1  امريكا قتلت بالامس معوق رفض رفع يديه فماذا تري...   \n",
      "2           2  هذا الشخص هو من كان مؤيد لاحتلال العراق وضرب ا...   \n",
      "3           3  الى جمال ريان مذيع الجزيره  نحن من رعاك فى الم...   \n",
      "4           4  خيبه  الامل ليست تشاؤما ولا تقولا    ٠   عزم ل...   \n",
      "\n",
      "   languagecomment  \n",
      "0               -1  \n",
      "1               -1  \n",
      "2               -1  \n",
      "3               -1  \n",
      "4                0  \n"
     ]
    }
   ],
   "source": [
    "# import the data\n",
    "data = pd.read_csv(\"clean_data.csv\")\n",
    "print(data.head())"
   ]
  },
  {
   "cell_type": "code",
   "execution_count": 16,
   "metadata": {},
   "outputs": [],
   "source": [
    "words = data['body'].str.split(' ')"
   ]
  },
  {
   "cell_type": "code",
   "execution_count": 17,
   "metadata": {},
   "outputs": [
    {
     "data": {
      "text/html": [
       "<div>\n",
       "<style scoped>\n",
       "    .dataframe tbody tr th:only-of-type {\n",
       "        vertical-align: middle;\n",
       "    }\n",
       "\n",
       "    .dataframe tbody tr th {\n",
       "        vertical-align: top;\n",
       "    }\n",
       "\n",
       "    .dataframe thead th {\n",
       "        text-align: right;\n",
       "    }\n",
       "</style>\n",
       "<table border=\"1\" class=\"dataframe\">\n",
       "  <thead>\n",
       "    <tr style=\"text-align: right;\">\n",
       "      <th></th>\n",
       "      <th>Unnamed: 0</th>\n",
       "      <th>body</th>\n",
       "      <th>languagecomment</th>\n",
       "    </tr>\n",
       "  </thead>\n",
       "  <tbody>\n",
       "    <tr>\n",
       "      <th>0</th>\n",
       "      <td>0</td>\n",
       "      <td>يبغى التنبيه على ان السعوديه  تستخدم صواريخ جو...</td>\n",
       "      <td>-1</td>\n",
       "    </tr>\n",
       "    <tr>\n",
       "      <th>1</th>\n",
       "      <td>1</td>\n",
       "      <td>امريكا قتلت بالامس معوق رفض رفع يديه فماذا تري...</td>\n",
       "      <td>-1</td>\n",
       "    </tr>\n",
       "    <tr>\n",
       "      <th>2</th>\n",
       "      <td>2</td>\n",
       "      <td>هذا الشخص هو من كان مؤيد لاحتلال العراق وضرب ا...</td>\n",
       "      <td>-1</td>\n",
       "    </tr>\n",
       "    <tr>\n",
       "      <th>3</th>\n",
       "      <td>3</td>\n",
       "      <td>الى جمال ريان مذيع الجزيره  نحن من رعاك فى الم...</td>\n",
       "      <td>-1</td>\n",
       "    </tr>\n",
       "    <tr>\n",
       "      <th>4</th>\n",
       "      <td>4</td>\n",
       "      <td>خيبه  الامل ليست تشاؤما ولا تقولا    ٠   عزم ل...</td>\n",
       "      <td>0</td>\n",
       "    </tr>\n",
       "    <tr>\n",
       "      <th>...</th>\n",
       "      <td>...</td>\n",
       "      <td>...</td>\n",
       "      <td>...</td>\n",
       "    </tr>\n",
       "    <tr>\n",
       "      <th>31687</th>\n",
       "      <td>31687</td>\n",
       "      <td>انه لا علاقه  بتاتا بين البطوله  و القتل الساد...</td>\n",
       "      <td>-1</td>\n",
       "    </tr>\n",
       "    <tr>\n",
       "      <th>31688</th>\n",
       "      <td>31688</td>\n",
       "      <td>انتقام    .      .    ام حسد   ؟</td>\n",
       "      <td>0</td>\n",
       "    </tr>\n",
       "    <tr>\n",
       "      <th>31689</th>\n",
       "      <td>31689</td>\n",
       "      <td>الظلم ظلمات فى الدنيا والاخره  ليس انتقادا للح...</td>\n",
       "      <td>0</td>\n",
       "    </tr>\n",
       "    <tr>\n",
       "      <th>31690</th>\n",
       "      <td>31690</td>\n",
       "      <td>بودموس و سیریزا املان للعالم للتخلص من الراسما...</td>\n",
       "      <td>-1</td>\n",
       "    </tr>\n",
       "    <tr>\n",
       "      <th>31691</th>\n",
       "      <td>31691</td>\n",
       "      <td>هلا هلا هلا</td>\n",
       "      <td>0</td>\n",
       "    </tr>\n",
       "  </tbody>\n",
       "</table>\n",
       "<p>31692 rows × 3 columns</p>\n",
       "</div>"
      ],
      "text/plain": [
       "       Unnamed: 0                                               body  \\\n",
       "0               0  يبغى التنبيه على ان السعوديه  تستخدم صواريخ جو...   \n",
       "1               1  امريكا قتلت بالامس معوق رفض رفع يديه فماذا تري...   \n",
       "2               2  هذا الشخص هو من كان مؤيد لاحتلال العراق وضرب ا...   \n",
       "3               3  الى جمال ريان مذيع الجزيره  نحن من رعاك فى الم...   \n",
       "4               4  خيبه  الامل ليست تشاؤما ولا تقولا    ٠   عزم ل...   \n",
       "...           ...                                                ...   \n",
       "31687       31687  انه لا علاقه  بتاتا بين البطوله  و القتل الساد...   \n",
       "31688       31688                انتقام    .      .    ام حسد   ؟      \n",
       "31689       31689  الظلم ظلمات فى الدنيا والاخره  ليس انتقادا للح...   \n",
       "31690       31690  بودموس و سیریزا املان للعالم للتخلص من الراسما...   \n",
       "31691       31691                                        هلا هلا هلا   \n",
       "\n",
       "       languagecomment  \n",
       "0                   -1  \n",
       "1                   -1  \n",
       "2                   -1  \n",
       "3                   -1  \n",
       "4                    0  \n",
       "...                ...  \n",
       "31687               -1  \n",
       "31688                0  \n",
       "31689                0  \n",
       "31690               -1  \n",
       "31691                0  \n",
       "\n",
       "[31692 rows x 3 columns]"
      ]
     },
     "execution_count": 17,
     "metadata": {},
     "output_type": "execute_result"
    }
   ],
   "source": [
    "data.replace('\\n', '<br />')"
   ]
  },
  {
   "cell_type": "code",
   "execution_count": 18,
   "metadata": {},
   "outputs": [
    {
     "data": {
      "text/html": [
       "<div>\n",
       "<style scoped>\n",
       "    .dataframe tbody tr th:only-of-type {\n",
       "        vertical-align: middle;\n",
       "    }\n",
       "\n",
       "    .dataframe tbody tr th {\n",
       "        vertical-align: top;\n",
       "    }\n",
       "\n",
       "    .dataframe thead th {\n",
       "        text-align: right;\n",
       "    }\n",
       "</style>\n",
       "<table border=\"1\" class=\"dataframe\">\n",
       "  <thead>\n",
       "    <tr style=\"text-align: right;\">\n",
       "      <th></th>\n",
       "      <th>body</th>\n",
       "      <th>languagecomment</th>\n",
       "    </tr>\n",
       "  </thead>\n",
       "  <tbody>\n",
       "    <tr>\n",
       "      <th>0</th>\n",
       "      <td>يبغى التنبيه على ان السعوديه  تستخدم صواريخ جو...</td>\n",
       "      <td>-1</td>\n",
       "    </tr>\n",
       "    <tr>\n",
       "      <th>1</th>\n",
       "      <td>امريكا قتلت بالامس معوق رفض رفع يديه فماذا تري...</td>\n",
       "      <td>-1</td>\n",
       "    </tr>\n",
       "    <tr>\n",
       "      <th>2</th>\n",
       "      <td>هذا الشخص هو من كان مؤيد لاحتلال العراق وضرب ا...</td>\n",
       "      <td>-1</td>\n",
       "    </tr>\n",
       "    <tr>\n",
       "      <th>3</th>\n",
       "      <td>الى جمال ريان مذيع الجزيره  نحن من رعاك فى الم...</td>\n",
       "      <td>-1</td>\n",
       "    </tr>\n",
       "    <tr>\n",
       "      <th>4</th>\n",
       "      <td>خيبه  الامل ليست تشاؤما ولا تقولا    ٠   عزم ل...</td>\n",
       "      <td>0</td>\n",
       "    </tr>\n",
       "  </tbody>\n",
       "</table>\n",
       "</div>"
      ],
      "text/plain": [
       "                                                body  languagecomment\n",
       "0  يبغى التنبيه على ان السعوديه  تستخدم صواريخ جو...               -1\n",
       "1  امريكا قتلت بالامس معوق رفض رفع يديه فماذا تري...               -1\n",
       "2  هذا الشخص هو من كان مؤيد لاحتلال العراق وضرب ا...               -1\n",
       "3  الى جمال ريان مذيع الجزيره  نحن من رعاك فى الم...               -1\n",
       "4  خيبه  الامل ليست تشاؤما ولا تقولا    ٠   عزم ل...                0"
      ]
     },
     "execution_count": 18,
     "metadata": {},
     "output_type": "execute_result"
    }
   ],
   "source": [
    "label_data = data[['body', 'languagecomment']]\n",
    "label_data[:5]"
   ]
  },
  {
   "cell_type": "code",
   "execution_count": 19,
   "metadata": {},
   "outputs": [],
   "source": [
    "sample = label_data[:500]"
   ]
  },
  {
   "cell_type": "code",
   "execution_count": 20,
   "metadata": {},
   "outputs": [],
   "source": [
    "from sklearn.model_selection import train_test_split\n",
    "\n",
    "train, test = train_test_split(label_data, test_size=0.2) #sample"
   ]
  },
  {
   "cell_type": "code",
   "execution_count": 25,
   "metadata": {},
   "outputs": [
    {
     "name": "stdout",
     "output_type": "stream",
     "text": [
      "Performing grid search...\n",
      "pipeline: ['tfidf', 'NB']\n",
      "parameters:\n",
      "{'tfidf__use_idf': (True, False), 'tfidf__norm': ('l1', 'l2')}\n",
      "Fitting 5 folds for each of 4 candidates, totalling 20 fits\n"
     ]
    },
    {
     "name": "stderr",
     "output_type": "stream",
     "text": [
      "[Parallel(n_jobs=-1)]: Using backend LokyBackend with 4 concurrent workers.\n",
      "[Parallel(n_jobs=-1)]: Done  20 out of  20 | elapsed:    5.6s finished\n"
     ]
    },
    {
     "name": "stdout",
     "output_type": "stream",
     "text": [
      "done in 6.215s\n",
      "\n",
      "Best score: 0.814\n",
      "Best parameters set:\n",
      "\ttfidf__norm: 'l2'\n",
      "\ttfidf__use_idf: True\n",
      "accuracy= 0.813693011516012\n",
      "recall= 0.813693011516012\n",
      "precision= 0.8106403913812922\n",
      "weighted f-score 0.7436105478570842\n",
      "Confusion matrix\n",
      " [[  13   92    0]\n",
      " [   0 5078   19]\n",
      " [   0 1070   67]]\n"
     ]
    }
   ],
   "source": [
    "from sklearn.feature_extraction.text import TfidfVectorizer\n",
    "from sklearn.model_selection import GridSearchCV\n",
    "from sklearn.pipeline import Pipeline\n",
    "from sklearn.naive_bayes import MultinomialNB\n",
    "from sklearn.metrics import confusion_matrix\n",
    "from sklearn.metrics import f1_score, recall_score, precision_score\n",
    "from time import time\n",
    "\n",
    "max_features = 5000\n",
    "\n",
    "x = train['body']\n",
    "y = train['languagecomment']\n",
    "\n",
    "\n",
    "tfidf = TfidfVectorizer(max_features=max_features)\n",
    "\n",
    "pipeline = Pipeline([\n",
    "    ('tfidf', tfidf),\n",
    "    ('NB', MultinomialNB (alpha=1)), \n",
    "])\n",
    "\n",
    "parameters = {\n",
    "    'tfidf__use_idf': (True, False),\n",
    "    'tfidf__norm': ('l1', 'l2')   \n",
    "}\n",
    "\n",
    "grid_search = GridSearchCV(pipeline, parameters, cv=5,\n",
    "                               n_jobs=-1, verbose=1)\n",
    "\n",
    "print(\"Performing grid search...\")\n",
    "print(\"pipeline:\", [name for name, _ in pipeline.steps])\n",
    "print(\"parameters:\")\n",
    "print(parameters)\n",
    "t0 = time()\n",
    "grid_search.fit(x, y)\n",
    "print(\"done in %0.3fs\" % (time() - t0))\n",
    "print()\n",
    "\n",
    "print(\"Best score: %0.3f\" % grid_search.best_score_)\n",
    "print(\"Best parameters set:\")\n",
    "best_parameters = grid_search.best_estimator_.get_params()\n",
    "for param_name in sorted(parameters.keys()):\n",
    "    print(\"\\t%s: %r\" % (param_name, best_parameters[param_name]))\n",
    "    \n",
    "#refitting on entire training data using best settings\n",
    "grid_search.refit\n",
    "\n",
    "x_test = test['body']\n",
    "y_test = test['languagecomment']\n",
    "\n",
    "predicted = grid_search.predict(x_test)\n",
    "print(\"accuracy=\", np.mean(predicted == y_test))\n",
    "print(\"recall=\", recall_score(y_test, predicted, average='weighted') )\n",
    "print(\"precision=\", precision_score(y_test, predicted, average='weighted'))\n",
    "print(\"weighted f-score\", f1_score(y_test, predicted, average='weighted'))\n",
    "print(\"Confusion matrix\\n\", confusion_matrix(y_test, predicted))"
   ]
  },
  {
   "cell_type": "code",
   "execution_count": null,
   "metadata": {
    "collapsed": true,
    "jupyter": {
     "outputs_hidden": true
    }
   },
   "outputs": [],
   "source": []
  }
 ],
 "metadata": {
  "kernelspec": {
   "display_name": "Python 3",
   "language": "python",
   "name": "python3"
  },
  "language_info": {
   "codemirror_mode": {
    "name": "ipython",
    "version": 3
   },
   "file_extension": ".py",
   "mimetype": "text/x-python",
   "name": "python",
   "nbconvert_exporter": "python",
   "pygments_lexer": "ipython3",
   "version": "3.7.6"
  }
 },
 "nbformat": 4,
 "nbformat_minor": 4
}
