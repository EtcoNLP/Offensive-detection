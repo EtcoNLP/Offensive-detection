{
 "cells": [
  {
   "cell_type": "code",
   "execution_count": 1,
   "metadata": {},
   "outputs": [],
   "source": [
    "import pandas as pd  \n",
    "import numpy as np  \n",
    "import matplotlib.pyplot as plt\n",
    "import seaborn as sns; sns.set(font_scale=1.2)\n",
    "# Pickle package\n",
    "import pickle"
   ]
  },
  {
   "cell_type": "code",
   "execution_count": 2,
   "metadata": {},
   "outputs": [
    {
     "name": "stdout",
     "output_type": "stream",
     "text": [
      "   Unnamed: 0                                               body  \\\n",
      "0           0  يبغى التنبيه على ان السعوديه  تستخدم صواريخ جو...   \n",
      "1           1  امريكا قتلت بالامس معوق رفض رفع يديه فماذا تري...   \n",
      "2           2  هذا الشخص هو من كان مؤيد لاحتلال العراق وضرب ا...   \n",
      "3           3  الى جمال ريان مذيع الجزيره  نحن من رعاك فى الم...   \n",
      "4           4  خيبه  الامل ليست تشاؤما ولا تقولا    ٠   عزم ل...   \n",
      "\n",
      "   languagecomment  \n",
      "0               -1  \n",
      "1               -1  \n",
      "2               -1  \n",
      "3               -1  \n",
      "4                0  \n"
     ]
    }
   ],
   "source": [
    "# import the data\n",
    "data = pd.read_csv(\"clean_data.csv\")\n",
    "print(data.head())"
   ]
  },
  {
   "cell_type": "code",
   "execution_count": 3,
   "metadata": {},
   "outputs": [],
   "source": [
    "# # Plot two ingredients\n",
    "# sns.lmplot('body', 'languagecomment', data=data, hue='Type',\n",
    "#            palette='Set1', fit_reg=False, scatter_kws={\"s\": 70});"
   ]
  },
  {
   "cell_type": "code",
   "execution_count": 4,
   "metadata": {},
   "outputs": [
    {
     "data": {
      "text/html": [
       "<div>\n",
       "<style scoped>\n",
       "    .dataframe tbody tr th:only-of-type {\n",
       "        vertical-align: middle;\n",
       "    }\n",
       "\n",
       "    .dataframe tbody tr th {\n",
       "        vertical-align: top;\n",
       "    }\n",
       "\n",
       "    .dataframe thead th {\n",
       "        text-align: right;\n",
       "    }\n",
       "</style>\n",
       "<table border=\"1\" class=\"dataframe\">\n",
       "  <thead>\n",
       "    <tr style=\"text-align: right;\">\n",
       "      <th></th>\n",
       "      <th>body</th>\n",
       "      <th>languagecomment</th>\n",
       "    </tr>\n",
       "  </thead>\n",
       "  <tbody>\n",
       "    <tr>\n",
       "      <th>120</th>\n",
       "      <td>جيش الهر العلمانى يكاد يكون حبر على الورق   ، ...</td>\n",
       "      <td>-1</td>\n",
       "    </tr>\n",
       "    <tr>\n",
       "      <th>121</th>\n",
       "      <td>شكرا الجزيره  على دعمكم للشعب السورى والثوره  ...</td>\n",
       "      <td>-1</td>\n",
       "    </tr>\n",
       "    <tr>\n",
       "      <th>122</th>\n",
       "      <td>ومن اعرض عن ذكرى فان له معيشه  ضنكى    .      ...</td>\n",
       "      <td>0</td>\n",
       "    </tr>\n",
       "    <tr>\n",
       "      <th>123</th>\n",
       "      <td>للمره  العاشره    .      .      .    القافله  ...</td>\n",
       "      <td>0</td>\n",
       "    </tr>\n",
       "    <tr>\n",
       "      <th>124</th>\n",
       "      <td>التقئ</td>\n",
       "      <td>-1</td>\n",
       "    </tr>\n",
       "    <tr>\n",
       "      <th>125</th>\n",
       "      <td>لا جديد كذب فى كذبنفس تعليقات زعيم الجنوب اللب...</td>\n",
       "      <td>-1</td>\n",
       "    </tr>\n",
       "    <tr>\n",
       "      <th>126</th>\n",
       "      <td>ولما نتنياهو سيقسم الاقصى هل لكم خصائل الرجال</td>\n",
       "      <td>-1</td>\n",
       "    </tr>\n",
       "    <tr>\n",
       "      <th>127</th>\n",
       "      <td>اضرب يا سيسى بيد من حديد على الاخوان الارهابيي...</td>\n",
       "      <td>-1</td>\n",
       "    </tr>\n",
       "    <tr>\n",
       "      <th>128</th>\n",
       "      <td>كس امكم قناه  حقيره  ارهابيه  اغونجيه  وداعشيه...</td>\n",
       "      <td>-2</td>\n",
       "    </tr>\n",
       "    <tr>\n",
       "      <th>129</th>\n",
       "      <td>ذلك اليهودى يسعى لتوسيع حرب السوريين واين السن...</td>\n",
       "      <td>-1</td>\n",
       "    </tr>\n",
       "  </tbody>\n",
       "</table>\n",
       "</div>"
      ],
      "text/plain": [
       "                                                  body  languagecomment\n",
       "120  جيش الهر العلمانى يكاد يكون حبر على الورق   ، ...               -1\n",
       "121  شكرا الجزيره  على دعمكم للشعب السورى والثوره  ...               -1\n",
       "122  ومن اعرض عن ذكرى فان له معيشه  ضنكى    .      ...                0\n",
       "123  للمره  العاشره    .      .      .    القافله  ...                0\n",
       "124                                              التقئ               -1\n",
       "125  لا جديد كذب فى كذبنفس تعليقات زعيم الجنوب اللب...               -1\n",
       "126      ولما نتنياهو سيقسم الاقصى هل لكم خصائل الرجال               -1\n",
       "127  اضرب يا سيسى بيد من حديد على الاخوان الارهابيي...               -1\n",
       "128  كس امكم قناه  حقيره  ارهابيه  اغونجيه  وداعشيه...               -2\n",
       "129  ذلك اليهودى يسعى لتوسيع حرب السوريين واين السن...               -1"
      ]
     },
     "execution_count": 4,
     "metadata": {},
     "output_type": "execute_result"
    }
   ],
   "source": [
    "label_data = data[['body', 'languagecomment']]\n",
    "label_data[120:130]"
   ]
  },
  {
   "cell_type": "code",
   "execution_count": null,
   "metadata": {},
   "outputs": [],
   "source": []
  },
  {
   "cell_type": "code",
   "execution_count": 5,
   "metadata": {},
   "outputs": [],
   "source": [
    "from sklearn.model_selection import train_test_split\n",
    "from scipy import stats\n",
    "\n",
    "train, test = train_test_split(label_data, test_size=0.2)"
   ]
  },
  {
   "cell_type": "code",
   "execution_count": 6,
   "metadata": {},
   "outputs": [
    {
     "name": "stdout",
     "output_type": "stream",
     "text": [
      "Performing grid search...\n",
      "pipeline: ['tfidf', 'SVM']\n",
      "parameters:\n",
      "{'tfidf__use_idf': (True, False), 'tfidf__norm': ('l1', 'l2')}\n",
      "Fitting 5 folds for each of 4 candidates, totalling 20 fits\n"
     ]
    },
    {
     "name": "stderr",
     "output_type": "stream",
     "text": [
      "[Parallel(n_jobs=-1)]: Using backend LokyBackend with 4 concurrent workers.\n",
      "[Parallel(n_jobs=-1)]: Done  20 out of  20 | elapsed: 12.7min finished\n"
     ]
    },
    {
     "name": "stdout",
     "output_type": "stream",
     "text": [
      "done in 59504.734s\n",
      "\n",
      "Best score: 0.819\n",
      "Best parameters set:\n",
      "\ttfidf__norm: 'l2'\n",
      "\ttfidf__use_idf: True\n",
      "accuracy= 0.8110112005048115\n",
      "recall= 0.8110112005048115\n",
      "precision= 0.8064850698839671\n",
      "weighted f-score 0.7459707077424758\n",
      "Confusion matrix\n",
      " [[  14   83    0]\n",
      " [   2 5021   30]\n",
      " [   0 1083  106]]\n"
     ]
    }
   ],
   "source": [
    "from sklearn.feature_extraction.text import TfidfVectorizer\n",
    "from sklearn.model_selection import GridSearchCV\n",
    "from sklearn.pipeline import Pipeline\n",
    "from sklearn.naive_bayes import MultinomialNB\n",
    "\n",
    "from sklearn import svm\n",
    "from sklearn.svm import SVC, LinearSVC # \"Support vector classifier\"\n",
    "model = SVC(kernel='linear', C=1E10)\n",
    "from sklearn.linear_model import SGDClassifier\n",
    "\n",
    "from sklearn.metrics import confusion_matrix\n",
    "from sklearn.metrics import f1_score, recall_score, precision_score\n",
    "from time import time\n",
    "\n",
    "max_features = 5000\n",
    "\n",
    "x = train['body']\n",
    "y = train['languagecomment']\n",
    "\n",
    "\n",
    "tfidf = TfidfVectorizer(max_features=max_features)\n",
    "\n",
    "pipeline = Pipeline([\n",
    "    ('tfidf', tfidf),\n",
    "    ('SVM', SVC(C=1.0, cache_size=200, class_weight=None, coef0=0.0, decision_function_shape='ovr', degree=3, gamma='scale', kernel='rbf', max_iter=-1, probability=False, random_state=None, shrinking=True, tol=0.001, verbose=False))\n",
    "]) # other parameters:\n",
    "    # SGDClassifier(loss='hinge', penalty='l2', alpha=1e-3, n_iter=5, random_state=42)\n",
    "    # svm.SVC(kernel='rbf')\n",
    "    # svm.SVC(kernel='linear')\n",
    "    \n",
    "parameters = {\n",
    "    'tfidf__use_idf': (True, False),\n",
    "    'tfidf__norm': ('l1', 'l2')   \n",
    "}\n",
    "\n",
    "grid_search = GridSearchCV(pipeline, parameters, cv=5,\n",
    "                               n_jobs=-1, verbose=1)\n",
    "\n",
    "print(\"Performing grid search...\")\n",
    "print(\"pipeline:\", [name for name, _ in pipeline.steps])\n",
    "print(\"parameters:\")\n",
    "print(parameters)\n",
    "t0 = time()\n",
    "grid_search.fit(x, y)\n",
    "print(\"done in %0.3fs\" % (time() - t0))\n",
    "print()\n",
    "\n",
    "print(\"Best score: %0.3f\" % grid_search.best_score_)\n",
    "print(\"Best parameters set:\")\n",
    "best_parameters = grid_search.best_estimator_.get_params()\n",
    "for param_name in sorted(parameters.keys()):\n",
    "    print(\"\\t%s: %r\" % (param_name, best_parameters[param_name]))\n",
    "    \n",
    "#refitting on entire training data using best settings\n",
    "grid_search.refit\n",
    "\n",
    "x_test = test['body']\n",
    "y_test = test['languagecomment']\n",
    "\n",
    "predicted = grid_search.predict(x_test)\n",
    "print(\"accuracy=\", np.mean(predicted == y_test))\n",
    "print(\"recall=\", recall_score(y_test, predicted, average='weighted') )\n",
    "print(\"precision=\", precision_score(y_test, predicted, average='weighted'))\n",
    "print(\"weighted f-score\", f1_score(y_test, predicted, average='weighted'))\n",
    "print(\"Confusion matrix\\n\", confusion_matrix(y_test, predicted))"
   ]
  },
  {
   "cell_type": "code",
   "execution_count": null,
   "metadata": {
    "collapsed": true
   },
   "outputs": [],
   "source": []
  }
 ],
 "metadata": {
  "kernelspec": {
   "display_name": "Python 3",
   "language": "python",
   "name": "python3"
  },
  "language_info": {
   "codemirror_mode": {
    "name": "ipython",
    "version": 3
   },
   "file_extension": ".py",
   "mimetype": "text/x-python",
   "name": "python",
   "nbconvert_exporter": "python",
   "pygments_lexer": "ipython3",
   "version": "3.7.6"
  }
 },
 "nbformat": 4,
 "nbformat_minor": 2
}
